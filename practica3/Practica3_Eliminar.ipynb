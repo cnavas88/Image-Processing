{
 "cells": [
  {
   "cell_type": "code",
   "execution_count": 1,
   "metadata": {
    "collapsed": true
   },
   "outputs": [],
   "source": [
    "from skimage import data, draw,color, data, restoration\n",
    "from skimage import transform, util\n",
    "from scipy import misc, fftpack, signal\n",
    "import numpy as np\n",
    "from skimage import filters, color\n",
    "from matplotlib import pyplot as plt\n",
    "from PIL import Image, ImageDraw, ImageEnhance\n",
    "import matplotlib.animation as animation\n",
    "from scipy.misc import imresize\n",
    "from scipy import ndimage as nd\n",
    "import scipy\n",
    "#%matplotlib inline"
   ]
  },
  {
   "cell_type": "code",
   "execution_count": null,
   "metadata": {
    "collapsed": true
   },
   "outputs": [],
   "source": []
  },
  {
   "cell_type": "code",
   "execution_count": null,
   "metadata": {
    "collapsed": true
   },
   "outputs": [],
   "source": []
  },
  {
   "cell_type": "code",
   "execution_count": 2,
   "metadata": {
    "collapsed": false
   },
   "outputs": [],
   "source": [
    "rgb =  plt.imread('agbar.png')\n",
    "img = color.rgb2gray(rgb)\n",
    "img = util.img_as_float(img)\n",
    "fig = plt.figure(1) \n",
    "plt.imshow(rgb)\n",
    "plt.title('Original Image')\n",
    "plt.show()"
   ]
  },
  {
   "cell_type": "code",
   "execution_count": 3,
   "metadata": {
    "collapsed": false
   },
   "outputs": [],
   "source": [
    "def gradient(img):\n",
    "    img = color.rgb2gray(img)\n",
    "    gx, gy = np.gradient(img)\n",
    "    grad = np.sqrt(gx*gx + gy*gy)\n",
    "    return grad\n",
    "grad = gradient(img)\n",
    "\n",
    "fig = plt.figure(2) \n",
    "plt.title('Contorns imatge')\n",
    "plt.imshow(grad, cmap=\"gray\" )\n",
    "plt.show()"
   ]
  },
  {
   "cell_type": "code",
   "execution_count": 4,
   "metadata": {
    "collapsed": false
   },
   "outputs": [],
   "source": [
    "#normalitzacio d'imatge\n",
    "def normalitzar(imatge):\n",
    "    return np.real((imatge - np.min(imatge)) * 256 / (np.max(imatge) - np.min(imatge)))"
   ]
  },
  {
   "cell_type": "code",
   "execution_count": 5,
   "metadata": {
    "collapsed": false
   },
   "outputs": [],
   "source": [
    "\n",
    "#Calcul matriu d'energia que te cada zona\n",
    "def energia(imatge):\n",
    "    height,width = imatge.shape\n",
    "    energia=np.zeros(imatge.shape)\n",
    "    #asignem la primera linea igual que la imatge que tenim\n",
    "    energia[0]=imatge[0]   \n",
    "    for x in range(1,height):\n",
    "        for y in range(0,width):\n",
    "            if y == 0:\n",
    "                min_val = min( energia[x-1, y], energia[x-1, y+1] )\n",
    "            elif y < width - 2:\n",
    "                min_val = min( energia[x-1, y], energia[x-1, y+1] )\n",
    "                min_val = min( min_val, energia[x-1, y-1] )\n",
    "            else:\n",
    "                min_val = min( energia[x-1, y], energia[x-1, y-1] )\n",
    "            energia[x,y] = imatge[x,y] + min_val\n",
    "    return energia\n",
    "            \n",
    "    \n",
    "    "
   ]
  },
  {
   "cell_type": "code",
   "execution_count": 6,
   "metadata": {
    "collapsed": false
   },
   "outputs": [],
   "source": [
    "grad=normalitzar(grad)\n",
    "E = energia(grad)\n",
    "fig = plt.figure(3) \n",
    "plt.title('Acumulacio energia')\n",
    "plt.imshow(E, cmap=\"gray\" )\n",
    "plt.show()\n",
    "\n"
   ]
  },
  {
   "cell_type": "code",
   "execution_count": 6,
   "metadata": {
    "collapsed": true
   },
   "outputs": [],
   "source": [
    "#SELECCIÓ INTERACTIVA DE LA ZONA A BORRAR\n",
    "class get_mouse_click():\n",
    "    \"\"\"Mouse interaction interface for radial distortion removal.\n",
    "\n",
    "    \"\"\"\n",
    "    def __init__(self, img):\n",
    "      height, width = img.shape[:2]\n",
    "      self.figure = plt.imshow(img, extent=(0, width, height, 0))\n",
    "      plt.gray()\n",
    "      plt.title('select the object to remove')\n",
    "      plt.xlabel('Select sets of  points with left mouse button,\\n'\n",
    "                 'click right button to close the polygon.')\n",
    "      plt.connect('button_press_event', self.button_press)\n",
    "      plt.connect('motion_notify_event', self.mouse_move)\n",
    "\n",
    "      self.img = np.atleast_3d(img)\n",
    "      self.points = []\n",
    "      self.centre = np.array([(width - 1)/2., (height - 1)/2.])\n",
    "\n",
    "      self.height = height\n",
    "      self.width = width\n",
    "\n",
    "      self.make_cursorline()\n",
    "      self.figure.axes.set_autoscale_on(False)\n",
    "\n",
    "      plt.show()\n",
    "      plt.close()\n",
    "\n",
    "    def make_cursorline(self):\n",
    "        self.cursorline, = plt.plot([0],[0],'r:+',\n",
    "                                    linewidth=2,markersize=15,markeredgecolor='b')\n",
    "\n",
    "    def button_press(self,event):\n",
    "        \"\"\"Register mouse clicks.\n",
    "\n",
    "        \"\"\"\n",
    "        if (event.button == 1 and event.xdata and event.ydata):\n",
    "            self.points.append((event.xdata,event.ydata))\n",
    "            print \"Coordinate entered: (%f,%f)\" % (event.xdata, event.ydata)\n",
    "\n",
    "            #if len(self.points) % 2 == 0:\n",
    "            plt.gca().lines.append(self.cursorline)\n",
    "            self.make_cursorline()\n",
    "\n",
    "        if (event.button != 1):\n",
    "            #print \"pepito: \" ,self.points\n",
    "            self.points.append((self.points[0][0],self.points[0][1]))\n",
    "            plt.close()\n",
    "            return self.points\n",
    "            #qui\n",
    "            #print \"Removing distortion...\"\n",
    "            #plt.gca().lines = []\n",
    "            #plt.draw()\n",
    "            #self.remove_distortion()\n",
    "            #self.points = []\n",
    "\n",
    "    def mouse_move(self,event):\n",
    "        \"\"\"Handle cursor drawing.\n",
    "\n",
    "        \"\"\"\n",
    "        #pt_sets, pts_last_set = divmod(len(self.points),5)\n",
    "        #print pts_last_set\n",
    "        pts_last_set=len(self.points)\n",
    "        #print pts_last_set2\n",
    "        pts = np.zeros((pts_last_set+1,2))\n",
    "        if pts_last_set > 0:\n",
    "            # Line follows up to 3 clicked points:\n",
    "            pts[:pts_last_set] = self.points[-pts_last_set:]\n",
    "            # The last point of the line follows the mouse cursor\n",
    "        pts[pts_last_set:] = [event.xdata,event.ydata]\n",
    "        #print pts\n",
    "        self.cursorline.set_data(pts[:,0], pts[:,1])\n",
    "        plt.draw()\n",
    "\n",
    "\n",
    "def compute_mask(width,height,polygon):\n",
    "    \n",
    "    img = Image.new('L', (width, height), 0)\n",
    "    ImageDraw.Draw(img).polygon(polygon, outline=1, fill=1)\n",
    "    mask = np.array(img)\n",
    "    mask100 = 100*np.ones([mask.shape[0],mask.shape[1]])\n",
    "    mask=mask*101\n",
    "    mask = 1. - mask; # switch 0s and 1s\n",
    "    return mask"
   ]
  },
  {
   "cell_type": "code",
   "execution_count": 7,
   "metadata": {
    "collapsed": false
   },
   "outputs": [],
   "source": [
    "# El calcul del tall vertical hem de buscar el cami amb cost minim. BACKTRACKING\n",
    "# Aquest tall pot ser vertical o horitzontal, es un camí de pixels connectats. En el nostre cas l'apliquem vertical\n",
    "# La función de importancia / energía valora un píxel mediante la medición de su contraste con sus píxeles vecinos.\n",
    "# Des de la imatge en escala de grisos retornarem el tall vertical mes baix com a llista de pixels\n",
    "\n",
    "def tall_vertical(grad,cost):\n",
    "    # Anem fins al -1 perque aixi es quedara en el 0, que tambe el necessitem.\n",
    "    width, height = grad.shape\n",
    "    \n",
    "    min_val = 1e1000\n",
    "    path = []\n",
    "    for y in range(height):\n",
    "        if cost[width-1,y] < min_val:\n",
    "            min_val = cost[width-1,y]\n",
    "            min_ptr = y\n",
    "            \n",
    "    pos = (width-1, min_ptr)\n",
    "    path.append(pos) \n",
    "    while pos[0] != 0:\n",
    "        val = cost[pos] - grad[pos]\n",
    "        x,y = pos\n",
    "        if y == 0:\n",
    "            if val == cost[x-1,y+1]:\n",
    "                pos = (x-1,y+1)\n",
    "            else:\n",
    "                pos = (x-1,y)\n",
    "        elif y <= height - 2:\n",
    "            if val == cost[x-1,y+1]:\n",
    "                pos = (x-1,y+1)\n",
    "            elif val == cost[x-1,y]:\n",
    "                pos = (x-1,y)\n",
    "            else:\n",
    "                pos = (x-1,y-1)\n",
    "        else:\n",
    "            if val == cost[x-1,y]:\n",
    "                pos = (x-1,y)\n",
    "            else:\n",
    "                pos = (x-1,y-1)\n",
    "                \n",
    "        path.append(pos)  \n",
    "    return path \n"
   ]
  },
  {
   "cell_type": "code",
   "execution_count": null,
   "metadata": {
    "collapsed": true
   },
   "outputs": [],
   "source": []
  },
  {
   "cell_type": "code",
   "execution_count": 8,
   "metadata": {
    "collapsed": false
   },
   "outputs": [],
   "source": [
    "def borrar_cami (img, path):\n",
    "    #modifiquem la funció perque pugui borrar tant de la imatge com la mascara\n",
    "    height, width = img.shape[:2]\n",
    "    if(len(img.shape) > 2):\n",
    "        img_retallada = np.zeros((height, width-1, img.shape[2]))\n",
    "    else:\n",
    "        img_retallada = np.zeros((height, width-1))\n",
    "    path_cpy = set(path)\n",
    "    visitat = set()\n",
    "    #print path[1]\n",
    "    for x in range(height):\n",
    "        for y in range(width):\n",
    "            if x not in visitat and (x,y) not in path_cpy:\n",
    "                img_retallada[x,y] = img[x,y]\n",
    "            elif (x,y) in path_cpy:\n",
    "                visitat.add(x)\n",
    "            else:\n",
    "                img_retallada[x,y-1] = img[x,y]\n",
    "    #print img_retallada.shape\n",
    "    return img_retallada;\n",
    "\n",
    "def mark_seam (mat, path, mark_as='red'):\n",
    "    #Dono maxim valor al canal corresponent al color escollit a tots els pixels del path que ens marca el cami a borrar\n",
    "    for i in path:\n",
    "        if mark_as == 'red':\n",
    "            mat[i] = (255,0,0)\n",
    "        elif mark_as == 'green':\n",
    "            mat[i] = (0,255,0)\n",
    "        elif mark_as == 'blue':\n",
    "            mat[i] = (0,0,255)\n",
    "        elif mark_as == 'white':\n",
    "            mat[i] = (255,255,255)\n",
    "        elif mark_as == 'black':\n",
    "            mat[i] = (0,0,0)\n",
    "    \n",
    "    return mat;                 \n"
   ]
  },
  {
   "cell_type": "code",
   "execution_count": 9,
   "metadata": {
    "collapsed": true
   },
   "outputs": [],
   "source": [
    "def apply_mask(img, mask):    \n",
    "    masked = img.copy()\n",
    "\n",
    "    for x in xrange(mask.shape[0]):\n",
    "        for y in xrange(mask.shape[1]):\n",
    "            if mask[x,y] == -100:\n",
    "                masked[x,y] = mask[x,y]\n",
    "    return masked"
   ]
  },
  {
   "cell_type": "code",
   "execution_count": 10,
   "metadata": {
    "collapsed": false
   },
   "outputs": [
    {
     "name": "stdout",
     "output_type": "stream",
     "text": [
      "Coordinate entered: (258.333333,154.166667)\n",
      "Coordinate entered: (220.833333,233.333333)\n",
      "Coordinate entered: (214.583333,437.500000)\n",
      "Coordinate entered: (300.000000,441.666667)\n",
      "Coordinate entered: (304.166667,293.750000)\n",
      "Coordinate entered: (283.333333,162.500000)\n",
      "Coordinate entered: (256.250000,154.166667)\n"
     ]
    }
   ],
   "source": [
    "rgb =  plt.imread('agbar.png')\n",
    "img = color.rgb2gray(rgb)\n",
    "img = util.img_as_float(img)\n",
    "width, height = img.shape\n",
    "rdi = get_mouse_click(rgb)\n",
    "polygon = rdi.points\n",
    "mascara = compute_mask(height, width, polygon)\n",
    "#dono maxim valor a la zona on hi ha l'area seleccionada\n",
    "grad = apply_mask(gradient(img), mascara)\n",
    "E = energia(grad)\n",
    "fig = plt.figure(2) \n",
    "plt.title('Contorns imatge')\n",
    "plt.imshow(grad, cmap=\"gray\" )\n",
    "plt.show()\n",
    "E = energia(grad)\n",
    "fig = plt.figure(3) \n",
    "plt.title('Acumulacio energia')\n",
    "plt.imshow(E, cmap=\"gray\" )\n",
    "plt.show()"
   ]
  },
  {
   "cell_type": "code",
   "execution_count": 15,
   "metadata": {
    "collapsed": false
   },
   "outputs": [],
   "source": [
    "def carving(imatge,mascara):\n",
    "    path = []\n",
    "    #path= tall_vertical(h, llistaBacktracking[2], E, path)    \n",
    "    #borrar_cami(grad, path)\n",
    "    #rgb =  plt.imread('countryside.jpg')\n",
    "    \n",
    "    rgb = imatge\n",
    "    seams = []\n",
    "\n",
    "    for t in range(100):\n",
    "        print \"iteration \"+str(t),\"\\tseam carved...\", rgb.shape\n",
    "        path = []\n",
    "        grad = apply_mask(gradient(rgb), mascara)\n",
    "        E = energia(grad)\n",
    "        path = tall_vertical(grad,E)\n",
    "        rgb = mark_seam(rgb, path, 'red')\n",
    "        seams.append([plt.imshow(rgb.astype('uint8'))])\n",
    "        rgb = borrar_cami(rgb, path)\n",
    "        mascara = borrar_cami(mascara, path)\n",
    "        \n",
    "    return rgb,seams;"
   ]
  },
  {
   "cell_type": "code",
   "execution_count": 19,
   "metadata": {
    "collapsed": false
   },
   "outputs": [
    {
     "name": "stdout",
     "output_type": "stream",
     "text": [
      "Coordinate entered: (258.333333,150.000000)\n",
      "Coordinate entered: (229.166667,220.833333)\n",
      "Coordinate entered: (218.750000,331.250000)\n",
      "Coordinate entered: (320.833333,331.250000)\n",
      "Coordinate entered: (262.500000,147.916667)\n"
     ]
    }
   ],
   "source": [
    "rgb =  plt.imread('agbar.png')\n",
    "img = color.rgb2gray(rgb)\n",
    "img = util.img_as_float(img)\n",
    "width, height = img.shape\n",
    "# Selecciono l'area a borrar\n",
    "selected_area = get_mouse_click(rgb)\n",
    "polygon = selected_area.points\n",
    "\n",
    "# Calculo la mascara\n",
    "mascara = compute_mask(height, width, polygon)\n",
    "#print mask.shape\n",
    "\n",
    "\n",
    "\n",
    "\n",
    "\n",
    "\n"
   ]
  },
  {
   "cell_type": "code",
   "execution_count": 20,
   "metadata": {
    "collapsed": false
   },
   "outputs": [
    {
     "name": "stdout",
     "output_type": "stream",
     "text": [
      "iteration 0 \tseam carved... (800, 600, 3)\n",
      "iteration 1 \tseam carved... (800, 599, 3)\n",
      "iteration 2 \tseam carved... (800, 598, 3)\n",
      "iteration 3 \tseam carved... (800, 597, 3)\n",
      "iteration 4 \tseam carved... (800, 596, 3)\n",
      "iteration 5 \tseam carved... (800, 595, 3)\n",
      "iteration 6 \tseam carved... (800, 594, 3)\n",
      "iteration 7 \tseam carved... (800, 593, 3)\n",
      "iteration 8 \tseam carved... (800, 592, 3)\n",
      "iteration 9 \tseam carved... (800, 591, 3)\n",
      "iteration 10 \tseam carved... (800, 590, 3)\n",
      "iteration 11 \tseam carved... (800, 589, 3)\n",
      "iteration 12 \tseam carved... (800, 588, 3)\n",
      "iteration 13 \tseam carved... (800, 587, 3)\n",
      "iteration 14 \tseam carved... (800, 586, 3)\n",
      "iteration 15 \tseam carved... (800, 585, 3)\n",
      "iteration 16 \tseam carved... (800, 584, 3)\n",
      "iteration 17 \tseam carved... (800, 583, 3)\n",
      "iteration 18 \tseam carved... (800, 582, 3)\n",
      "iteration 19 \tseam carved... (800, 581, 3)\n",
      "iteration 20 \tseam carved... (800, 580, 3)\n",
      "iteration 21 \tseam carved... (800, 579, 3)\n",
      "iteration 22 \tseam carved... (800, 578, 3)\n",
      "iteration 23 \tseam carved... (800, 577, 3)\n",
      "iteration 24 \tseam carved... (800, 576, 3)\n",
      "iteration 25 \tseam carved... (800, 575, 3)\n",
      "iteration 26 \tseam carved... (800, 574, 3)\n",
      "iteration 27 \tseam carved... (800, 573, 3)\n",
      "iteration 28 \tseam carved... (800, 572, 3)\n",
      "iteration 29 \tseam carved... (800, 571, 3)\n",
      "iteration 30 \tseam carved... (800, 570, 3)\n",
      "iteration 31 \tseam carved... (800, 569, 3)\n",
      "iteration 32 \tseam carved... (800, 568, 3)\n",
      "iteration 33 \tseam carved... (800, 567, 3)\n",
      "iteration 34 \tseam carved... (800, 566, 3)\n",
      "iteration 35 \tseam carved... (800, 565, 3)\n",
      "iteration 36 \tseam carved... (800, 564, 3)\n",
      "iteration 37 \tseam carved... (800, 563, 3)\n",
      "iteration 38 \tseam carved... (800, 562, 3)\n",
      "iteration 39 \tseam carved... (800, 561, 3)\n",
      "iteration 40 \tseam carved... (800, 560, 3)\n",
      "iteration 41 \tseam carved... (800, 559, 3)\n",
      "iteration 42 \tseam carved... (800, 558, 3)\n",
      "iteration 43 \tseam carved... (800, 557, 3)\n",
      "iteration 44 \tseam carved... (800, 556, 3)\n",
      "iteration 45 \tseam carved... (800, 555, 3)\n",
      "iteration 46 \tseam carved... (800, 554, 3)\n",
      "iteration 47 \tseam carved... (800, 553, 3)\n",
      "iteration 48 \tseam carved... (800, 552, 3)\n",
      "iteration 49 \tseam carved... (800, 551, 3)\n",
      "iteration 50 \tseam carved... (800, 550, 3)\n",
      "iteration 51 \tseam carved... (800, 549, 3)\n",
      "iteration 52 \tseam carved... (800, 548, 3)\n",
      "iteration 53 \tseam carved... (800, 547, 3)\n",
      "iteration 54 \tseam carved... (800, 546, 3)\n",
      "iteration 55 \tseam carved... (800, 545, 3)\n",
      "iteration 56 \tseam carved... (800, 544, 3)\n",
      "iteration 57 \tseam carved... (800, 543, 3)\n",
      "iteration 58 \tseam carved... (800, 542, 3)\n",
      "iteration 59 \tseam carved... (800, 541, 3)\n",
      "iteration 60 \tseam carved... (800, 540, 3)\n",
      "iteration 61 \tseam carved... (800, 539, 3)\n",
      "iteration 62 \tseam carved... (800, 538, 3)\n",
      "iteration 63 \tseam carved... (800, 537, 3)\n",
      "iteration 64 \tseam carved... (800, 536, 3)\n",
      "iteration 65 \tseam carved... (800, 535, 3)\n",
      "iteration 66 \tseam carved... (800, 534, 3)\n",
      "iteration 67 \tseam carved... (800, 533, 3)\n",
      "iteration 68 \tseam carved... (800, 532, 3)\n",
      "iteration 69 \tseam carved... (800, 531, 3)\n",
      "iteration 70 \tseam carved... (800, 530, 3)\n",
      "iteration 71 \tseam carved... (800, 529, 3)\n",
      "iteration 72 \tseam carved... (800, 528, 3)\n",
      "iteration 73 \tseam carved... (800, 527, 3)\n",
      "iteration 74 \tseam carved... (800, 526, 3)\n",
      "iteration 75 \tseam carved... (800, 525, 3)\n",
      "iteration 76 \tseam carved... (800, 524, 3)\n",
      "iteration 77 \tseam carved... (800, 523, 3)\n",
      "iteration 78 \tseam carved... (800, 522, 3)\n",
      "iteration 79 \tseam carved... (800, 521, 3)\n",
      "iteration 80 \tseam carved... (800, 520, 3)\n",
      "iteration 81 \tseam carved... (800, 519, 3)\n",
      "iteration 82 \tseam carved... (800, 518, 3)\n",
      "iteration 83 \tseam carved... (800, 517, 3)\n",
      "iteration 84 \tseam carved... (800, 516, 3)\n",
      "iteration 85 \tseam carved... (800, 515, 3)\n",
      "iteration 86 \tseam carved... (800, 514, 3)\n",
      "iteration 87 \tseam carved... (800, 513, 3)\n",
      "iteration 88 \tseam carved... (800, 512, 3)\n",
      "iteration 89 \tseam carved... (800, 511, 3)\n",
      "iteration 90 \tseam carved... (800, 510, 3)\n",
      "iteration 91 \tseam carved... (800, 509, 3)\n",
      "iteration 92 \tseam carved... (800, 508, 3)\n",
      "iteration 93 \tseam carved... (800, 507, 3)\n",
      "iteration 94 \tseam carved... (800, 506, 3)\n",
      "iteration 95 \tseam carved... (800, 505, 3)\n",
      "iteration 96 \tseam carved... (800, 504, 3)\n",
      "iteration 97 \tseam carved... (800, 503, 3)\n",
      "iteration 98 \tseam carved... (800, 502, 3)\n",
      "iteration 99 \tseam carved... (800, 501, 3)\n"
     ]
    }
   ],
   "source": [
    "\n",
    "\n",
    "imatge_reduida, seams = carving(rgb, mascara)\n",
    "plt.title('Imatge Retallada')\n",
    "plt.imshow(imatge_reduida)\n",
    "fig = plt.figure(1)\n",
    "\n"
   ]
  },
  {
   "cell_type": "code",
   "execution_count": 18,
   "metadata": {
    "collapsed": false
   },
   "outputs": [],
   "source": [
    "#run animation\n",
    "ani = animation.ArtistAnimation(fig, seams, interval=100, blit=True, repeat_delay=1000);\n",
    "plt.show();\n",
    "plt.title('Acumulacio energia')\n",
    "plt.imshow(imatge_reduida)\n",
    "plt.show()\n",
    "\n"
   ]
  },
  {
   "cell_type": "code",
   "execution_count": null,
   "metadata": {
    "collapsed": true
   },
   "outputs": [],
   "source": [
    "######################Comparacio RESULTATS\n",
    "plt.subplot(1,2,1)\n",
    "plt.imshow(plt.imread('agbar.png'))\n",
    "plt.title('Original')\n",
    "plt.subplot(1,2,2)\n",
    "plt.imshow(rgb)\n",
    "plt.title('Reduccion 100 iteracions')\n",
    "plt.gcf().set_size_inches((15,15))"
   ]
  }
 ],
 "metadata": {
  "kernelspec": {
   "display_name": "Python 2",
   "language": "python",
   "name": "python2"
  },
  "language_info": {
   "codemirror_mode": {
    "name": "ipython",
    "version": 2
   },
   "file_extension": ".py",
   "mimetype": "text/x-python",
   "name": "python",
   "nbconvert_exporter": "python",
   "pygments_lexer": "ipython2",
   "version": "2.7.10"
  }
 },
 "nbformat": 4,
 "nbformat_minor": 0
}
