{
 "cells": [
  {
   "cell_type": "code",
   "execution_count": 1,
   "metadata": {
    "collapsed": false
   },
   "outputs": [],
   "source": [
    "%matplotlib inline\n"
   ]
  },
  {
   "cell_type": "code",
   "execution_count": 83,
   "metadata": {
    "collapsed": false
   },
   "outputs": [],
   "source": [
    "import math\n",
    "import numpy as np\n",
    "import matplotlib.pyplot as plt\n",
    "from scipy import misc\n",
    "\n",
    "def gaussian(sigma):\n",
    "    #Imatge=obrirImatge(\"human.png\")\n",
    "    masksize=6*sigma+1 \n",
    "    Igaussian=[[masksize]*masksize for x in range(masksize)]\n",
    "    x0=float(masksize)/2.0\n",
    "    y0=float(masksize)/2.0\n",
    "    for x in range (0, masksize):\n",
    "        for y in range (0, masksize):\n",
    "            esquer=(((x-x0)**2)/(2*(sigma**2)))\n",
    "            dret=(((y-y0)**2)/(2*(sigma**2)))\n",
    "            suma=esquer+dret\n",
    "            Igaussian[x][y]=math.exp(-suma)\n",
    "\n",
    "            #Igaussian[x][y]=math.exp(-(((pow((x-x0),2))/2*pow(sigma,2))+((pow((y-y0),2))/2*pow(sigma,2))))\n",
    "\n",
    "    #plt.imshow(Imatge)\n",
    "    A=1/np.sum(Igaussian)\n",
    "    print (A)\n",
    "    for x in range (0, masksize):\n",
    "        for y in range (0, masksize):\n",
    "            Igaussian[x][y]=A*Igaussian[x][y]\n",
    "    plt.subplot(1,5,1)\n",
    "    plt.imshow(Igaussian)\n",
    "    #plt.imshow(Igaussian)\n",
    "    return Igaussian\n",
    "\n",
    "    \n",
    "   "
   ]
  },
  {
   "cell_type": "code",
   "execution_count": null,
   "metadata": {
    "collapsed": false
   },
   "outputs": [],
   "source": [
    "from scipy import signal,misc\n",
    "def obrirImatge():\n",
    "    imatgeHuman=misc.imread(\"human.png\")\n",
    "    imatgeCat=misc.imread(\"cat.png\")\n",
    "    gauss=gaussian(9)\n",
    "    IfiltradaHuan=signal.convolve2d(imatgeHuman[:,:,0],gauss, mode='full', boundary='wrap')\n",
    "    IfiltradaHuan=signal.convolve2d(imatgeHuman[:,:,1],gauss, mode='full', boundary='wrap')\n",
    "    IfiltradaHuan=signal.convolve2d(imatgeHuman[:,:,2],gauss, mode='full', boundary='wrap')\n",
    "    IfiltradaCat=signal.convolve2d(imatgeCat[:,:,0],gauss, mode='full', boundary='wrap')\n",
    "    IfiltradaCat=signal.convolve2d(imatgeCat[:,:,1],gauss, mode='full', boundary='wrap')\n",
    "    IfiltradaCat=signal.convolve2d(imatgeCat[:,:,2],gauss, mode='full', boundary='wrap')\n",
    "    plt.subplot(1,5,2)\n",
    "    plt.imshow(IfiltradaHuan)\n",
    "    plt.subplot(1,5,3)\n",
    "    plt.imshow(IfiltradaCat)\n",
    "    plt.subplot(1,5,4)\n",
    "    plt.imshow(imatgeHuman)\n",
    "    plt.subplot(1,5,5)\n",
    "    plt.imshow(imatgeCat)\n",
    "    #imageFiltradaHigFreq_Human=imatgeHuman[:,:,0]-IfiltradaHuan\n",
    "    #imageFiltradaHigFreq_Human=imatgeHuman[:,:,0]-IfiltradaHuan\n",
    "    #------------------Faltaria restar la imatge filtrada menys la imatge original pero dona error. Es culpa de que la imatge filtre es mes gran\n",
    "    #gaussian(9)\n",
    "obrirImatge()"
   ]
  },
  {
   "cell_type": "code",
   "execution_count": null,
   "metadata": {
    "collapsed": true
   },
   "outputs": [],
   "source": []
  },
  {
   "cell_type": "code",
   "execution_count": null,
   "metadata": {
    "collapsed": true
   },
   "outputs": [],
   "source": []
  }
 ],
 "metadata": {
  "kernelspec": {
   "display_name": "Python 3",
   "language": "python",
   "name": "python3"
  },
  "language_info": {
   "codemirror_mode": {
    "name": "ipython",
    "version": 3
   },
   "file_extension": ".py",
   "mimetype": "text/x-python",
   "name": "python",
   "nbconvert_exporter": "python",
   "pygments_lexer": "ipython3",
   "version": "3.4.3"
  }
 },
 "nbformat": 4,
 "nbformat_minor": 0
}
