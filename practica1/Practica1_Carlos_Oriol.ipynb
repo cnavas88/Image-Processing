{
 "cells": [
  {
   "cell_type": "code",
   "execution_count": 19,
   "metadata": {
    "collapsed": false
   },
   "outputs": [],
   "source": [
    "%matplotlib inline\n"
   ]
  },
  {
   "cell_type": "code",
   "execution_count": 70,
   "metadata": {
    "collapsed": false
   },
   "outputs": [],
   "source": [
    "import math\n",
    "import numpy as np\n",
    "import matplotlib.pyplot as plt\n",
    "from scipy import misc\n",
    "\n",
    "def gaussian(sigma):\n",
    "    #Imatge=obrirImatge(\"human.png\")\n",
    "    masksize=6*sigma+1 \n",
    "    Igaussian=[[masksize]*masksize for x in range(masksize)]\n",
    "    x0=float(masksize)/2.0\n",
    "    y0=float(masksize)/2.0\n",
    "    for x in range (0, masksize):\n",
    "        for y in range (0, masksize):\n",
    "            esquer=(((x-x0)**2)/(2*(sigma**2)))\n",
    "            dret=(((y-y0)**2)/(2*(sigma**2)))\n",
    "            suma=esquer+dret\n",
    "            Igaussian[x][y]=math.exp(-suma)\n",
    "\n",
    "            #Igaussian[x][y]=math.exp(-(((pow((x-x0),2))/2*pow(sigma,2))+((pow((y-y0),2))/2*pow(sigma,2))))\n",
    "\n",
    "    #plt.imshow(Imatge)\n",
    "    A=1/np.sum(Igaussian)\n",
    "    print (A)\n",
    "    for x in range (0, masksize):\n",
    "        for y in range (0, masksize):\n",
    "            Igaussian[x][y]=A*Igaussian[x][y]\n",
    "    #plt.imshow(Igaussian)\n",
    "    #plt.imshow(Igaussian)\n",
    "    return Igaussian\n",
    "\n",
    "    \n",
    "   "
   ]
  },
  {
   "cell_type": "code",
   "execution_count": 95,
   "metadata": {
    "collapsed": false
   },
   "outputs": [
    {
     "name": "stdout",
     "output_type": "stream",
     "text": [
      "0.00197382668079\n"
     ]
    },
    {
     "ename": "ValueError",
     "evalue": "operands could not be broadcast together with shapes (55,55) (323,285,3) ",
     "output_type": "error",
     "traceback": [
      "\u001b[1;31m---------------------------------------------------------------------------\u001b[0m",
      "\u001b[1;31mValueError\u001b[0m                                Traceback (most recent call last)",
      "\u001b[1;32m<ipython-input-95-41469a9d7e71>\u001b[0m in \u001b[0;36m<module>\u001b[1;34m()\u001b[0m\n\u001b[0;32m      7\u001b[0m     \u001b[0mplt\u001b[0m\u001b[1;33m.\u001b[0m\u001b[0mimshow\u001b[0m\u001b[1;33m(\u001b[0m\u001b[0mx\u001b[0m\u001b[1;33m)\u001b[0m\u001b[1;33m\u001b[0m\u001b[0m\n\u001b[0;32m      8\u001b[0m     \u001b[1;31m#gaussian(9)\u001b[0m\u001b[1;33m\u001b[0m\u001b[1;33m\u001b[0m\u001b[0m\n\u001b[1;32m----> 9\u001b[1;33m \u001b[0mobrirImatge\u001b[0m\u001b[1;33m(\u001b[0m\u001b[1;34m\"human.png\"\u001b[0m\u001b[1;33m)\u001b[0m\u001b[1;33m\u001b[0m\u001b[0m\n\u001b[0m",
      "\u001b[1;32m<ipython-input-95-41469a9d7e71>\u001b[0m in \u001b[0;36mobrirImatge\u001b[1;34m(img)\u001b[0m\n\u001b[0;32m      4\u001b[0m \u001b[1;33m\u001b[0m\u001b[0m\n\u001b[0;32m      5\u001b[0m     \u001b[0mgauss\u001b[0m\u001b[1;33m=\u001b[0m\u001b[0mgaussian\u001b[0m\u001b[1;33m(\u001b[0m\u001b[1;36m9\u001b[0m\u001b[1;33m)\u001b[0m\u001b[1;33m\u001b[0m\u001b[0m\n\u001b[1;32m----> 6\u001b[1;33m     \u001b[0mimR\u001b[0m\u001b[1;33m=\u001b[0m\u001b[0mgauss\u001b[0m\u001b[1;33m*\u001b[0m\u001b[0mimatge\u001b[0m\u001b[1;33m\u001b[0m\u001b[0m\n\u001b[0m\u001b[0;32m      7\u001b[0m     \u001b[0mplt\u001b[0m\u001b[1;33m.\u001b[0m\u001b[0mimshow\u001b[0m\u001b[1;33m(\u001b[0m\u001b[0mx\u001b[0m\u001b[1;33m)\u001b[0m\u001b[1;33m\u001b[0m\u001b[0m\n\u001b[0;32m      8\u001b[0m     \u001b[1;31m#gaussian(9)\u001b[0m\u001b[1;33m\u001b[0m\u001b[1;33m\u001b[0m\u001b[0m\n",
      "\u001b[1;31mValueError\u001b[0m: operands could not be broadcast together with shapes (55,55) (323,285,3) "
     ]
    }
   ],
   "source": [
    "def obrirImatge(img):\n",
    "    imatge=misc.imread(img)\n",
    "    #print (imatge[115][0][1])\n",
    "    \n",
    "    gauss=gaussian(9)\n",
    "    imR=gauss*imatge\n",
    "    plt.imshow(x)\n",
    "    #gaussian(9)\n",
    "obrirImatge(\"human.png\")"
   ]
  },
  {
   "cell_type": "code",
   "execution_count": null,
   "metadata": {
    "collapsed": true
   },
   "outputs": [],
   "source": []
  },
  {
   "cell_type": "code",
   "execution_count": null,
   "metadata": {
    "collapsed": true
   },
   "outputs": [],
   "source": []
  }
 ],
 "metadata": {
  "kernelspec": {
   "display_name": "Python 3",
   "language": "python",
   "name": "python3"
  },
  "language_info": {
   "codemirror_mode": {
    "name": "ipython",
    "version": 3
   },
   "file_extension": ".py",
   "mimetype": "text/x-python",
   "name": "python",
   "nbconvert_exporter": "python",
   "pygments_lexer": "ipython3",
   "version": "3.4.3"
  }
 },
 "nbformat": 4,
 "nbformat_minor": 0
}
