{
 "cells": [
  {
   "cell_type": "code",
   "execution_count": 1,
   "metadata": {
    "collapsed": true
   },
   "outputs": [],
   "source": [
    "from skimage import data, draw,color, data, restoration\n",
    "from skimage import transform, util\n",
    "from scipy import misc, fftpack, signal, ndimage\n",
    "import numpy as np\n",
    "from numpy.linalg import inv\n",
    "from skimage import filters, color\n",
    "from matplotlib import pyplot as plt\n",
    "from PIL import Image, ImageDraw, ImageEnhance\n",
    "import matplotlib.animation as animation\n",
    "from scipy.misc import imresize\n",
    "from scipy import ndimage as nd\n",
    "from random import randint\n",
    "import scipy\n",
    "scale = 4\n",
    "rgb =  plt.imread('casa.jpg')\n",
    "rgb = imresize(rgb, ( rgb.shape[0]/scale,rgb.shape[1]/scale,3),interp='bilinear')\n",
    "img_LAB = color.rgb2lab(rgb.astype('float'))\n",
    "img_gris = color.rgb2gray(rgb)\n",
    "def normalitzar(imatge):\n",
    "    return np.real((imatge - np.min(imatge)) * 256 / (np.max(imatge) - np.min(imatge)))\n",
    "rgb=normalitzar(rgb)\n",
    "img_gris=normalitzar(img_gris)"
   ]
  },
  {
   "cell_type": "code",
   "execution_count": 2,
   "metadata": {
    "collapsed": true
   },
   "outputs": [],
   "source": [
    "class get_mouse_click():\n",
    "    \n",
    "    #Mouse interaction interface for radial distortion removal.\n",
    "    def __init__(self, img):\n",
    "      height, width = img.shape[:2]\n",
    "      self.figure = plt.imshow(img, extent=(0, width, height, 0))\n",
    "      plt.gray()\n",
    "      plt.title('select the object to remove')\n",
    "      plt.xlabel('Select sets of  points with left mouse button,\\n'\n",
    "                 'click right button to close the polygon.')\n",
    "      plt.connect('button_press_event', self.button_press)\n",
    "      plt.connect('motion_notify_event', self.mouse_move)\n",
    "\n",
    "      self.img = np.atleast_3d(img)\n",
    "      self.points = []\n",
    "      self.centre = np.array([(width - 1)/2., (height - 1)/2.])\n",
    "\n",
    "      self.height = height\n",
    "      self.width = width\n",
    "\n",
    "      self.make_cursorline()\n",
    "      self.figure.axes.set_autoscale_on(False)\n",
    "\n",
    "      plt.show()\n",
    "      plt.close()\n",
    "\n",
    "    def make_cursorline(self):\n",
    "        self.cursorline, = plt.plot([0],[0],'r:+', linewidth=2,markersize=15,markeredgecolor='b')\n",
    "\n",
    "    def button_press(self,event):\n",
    "        # Register mouse clicks.\n",
    "        if (event.button == 1 and event.xdata and event.ydata):\n",
    "            self.points.append((event.xdata,event.ydata))\n",
    "            plt.gca().lines.append(self.cursorline)\n",
    "            plt.gca()\n",
    "            self.make_cursorline()\n",
    "        if (event.button != 1):\n",
    "            self.points.append((self.points[0][0],self.points[0][1]))\n",
    "            plt.close()\n",
    "            return self.points\n",
    "\n",
    "    def mouse_move(self,event):\n",
    "        # Handle cursor drawing.\n",
    "        pts_last_set=len(self.points)\n",
    "        pts = np.zeros((pts_last_set+1,2))\n",
    "        if pts_last_set > 0:\n",
    "            # Line follows up to 3 clicked points:\n",
    "            pts[:pts_last_set] = self.points[-pts_last_set:]\n",
    "            # The last point of the line follows the mouse cursor\n",
    "        pts[pts_last_set:] = [event.xdata,event.ydata]\n",
    "        self.cursorline.set_data(pts[:,0], pts[:,1])\n",
    "        plt.draw()\n",
    "def compute_mask(width,height,polygon):\n",
    "    \n",
    "    img = Image.new('L', (width, height), 0)\n",
    "    ImageDraw.Draw(img).polygon(polygon, outline=1, fill=1)\n",
    "    mask = np.array(img)\n",
    "    #mask100 = 100*np.ones([mask.shape[0],mask.shape[1]])\n",
    "    #mask=mask*101\n",
    "    #mask = 1. - mask; # switch 0s and 1s\n",
    "    return mask\n",
    "def convine_mask(zona_delete,gris):\n",
    "    #si tenim 1 a la macara tenim forat\n",
    "    for i in xrange(len(gris)):\n",
    "        for j in xrange(len(gris[0])):\n",
    "            if zona_delete[i][j]==1:\n",
    "                gris[i][j]=-100\n",
    "    return gris\n",
    "def reccorrer_img(finestra,finestra_validar,img_gris,t,r,vent):\n",
    "    dif=19999999990.\n",
    "    #valors=[]\n",
    "    for i in xrange(len(img_gris)-vent):\n",
    "        for j in xrange(len(img_gris[0])-vent):\n",
    "            #valor = millors_pix(finestra,finestra_validar,img_gris,i,j)\n",
    "            #si la puntuació es inferior al valor es que es prou semblant\n",
    "            valor = millors_pix(finestra,finestra_validar,img_gris,i,j)\n",
    "            \n",
    "            if valor < dif:\n",
    "                #print valor, dif, i, j\n",
    "                valors = i,j\n",
    "                dif = valor\n",
    "    #print \"i i j\",i,j\n",
    "    return valors\n",
    "def millors_pix(finestra,finestra_validar,img_gris,t,r):\n",
    "    #print finestra.shape\n",
    "    #print finestra_validar.shape\n",
    "    ssd=0.\n",
    "    total_ones_mask = finestra_validar.sum()\n",
    "    #aqui fariem el calcul de la formula explicada pel professor\n",
    "    #1/numero de 1 de la mascara*(Ixy-Fxy)² ssd = float(np.sum((img_gris[:,:,0:3] - finestra[:,:,0:3])**2))\n",
    "    for i in xrange(len(finestra_validar)):\n",
    "        for j in xrange(len(finestra_validar[0])):\n",
    "            ssd += (finestra_validar[i][j]*((img_gris[t+i,r+j] - finestra[i][j])**2))\n",
    "\n",
    "    #print finestra_validar\n",
    "    #print (1./total_ones_mask)*ssd\n",
    "    return (1./total_ones_mask)*ssd"
   ]
  },
  {
   "cell_type": "code",
   "execution_count": 5,
   "metadata": {
    "collapsed": false
   },
   "outputs": [],
   "source": [
    "img_gris = color.rgb2gray(rgb)\n",
    "img_gris=normalitzar(img_gris)\n",
    "rdi = get_mouse_click(img_gris.astype('uint8'))\n",
    "height,width=img_gris.shape\n",
    "zona_delete = compute_mask(width,height,rdi.points)\n",
    "\n",
    "vent=4\n",
    "cont=0\n",
    "img_gris_convine=img_gris\n",
    "while zona_delete.sum()!=0:\n",
    "    \n",
    "    zona_delete_erosio=ndimage.binary_erosion(zona_delete)\n",
    "\n",
    "    #busco el contorn mes extern de la part a substituir\n",
    "    delete_ceva =zona_delete - zona_delete_erosio \n",
    "    #actualitzo la mascara amb el que ja haurem substituit\n",
    "    \n",
    "    finestra = np.zeros((vent,vent), dtype=np.int)\n",
    "    img_gris_convine=convine_mask(zona_delete,img_gris_convine)\n",
    "    for i in xrange(len(delete_ceva)):\n",
    "        for j in xrange(len(delete_ceva[0])):\n",
    "            if delete_ceva[i][j]==1:\n",
    "                delete_ceva[i][j]=0\n",
    "                finestra_validar = np.ones((vent,vent), dtype=np.int)\n",
    "                finestra=img_gris_convine[i-vent/2:i+vent/2,j-vent/2:j+vent/2]               \n",
    "                finestra_validar=abs(finestra-finestra_validar)\n",
    "                #fig = plt.figure(123) \n",
    "                #plt.imshow(delete_ceva)\n",
    "                #plt.title('delete_ceva')\n",
    "                #plt.show()\n",
    "                #print \"finestra\",finestra,\"finestra validar\", finestra_validar\n",
    "                t,r = reccorrer_img(finestra,finestra_validar,img_gris_convine,i,j,vent)\n",
    "                img_gris[i][j]=img_gris[t][r]\n",
    "                misc.imsave('imatges/'+str(cont+1)+'.png',img_gris)\n",
    "                cont= cont +1\n",
    "                zona_delete=zona_delete_erosio\n",
    "    "
   ]
  },
  {
   "cell_type": "code",
   "execution_count": null,
   "metadata": {
    "collapsed": false
   },
   "outputs": [],
   "source": [
    "img_gris_convine.shape\n",
    "            "
   ]
  },
  {
   "cell_type": "code",
   "execution_count": 6,
   "metadata": {
    "collapsed": false
   },
   "outputs": [
    {
     "data": {
      "text/plain": [
       "36"
      ]
     },
     "execution_count": 6,
     "metadata": {},
     "output_type": "execute_result"
    }
   ],
   "source": [
    "zona_delete.sum()"
   ]
  },
  {
   "cell_type": "code",
   "execution_count": 6,
   "metadata": {
    "collapsed": true
   },
   "outputs": [],
   "source": [
    "    fig = plt.figure(123) \n",
    "    plt.imshow(img_gris)\n",
    "    plt.title('Contorn')\n",
    "    plt.show()"
   ]
  },
  {
   "cell_type": "code",
   "execution_count": null,
   "metadata": {
    "collapsed": true
   },
   "outputs": [],
   "source": []
  }
 ],
 "metadata": {
  "kernelspec": {
   "display_name": "Python 2",
   "language": "python",
   "name": "python2"
  },
  "language_info": {
   "codemirror_mode": {
    "name": "ipython",
    "version": 2
   },
   "file_extension": ".py",
   "mimetype": "text/x-python",
   "name": "python",
   "nbconvert_exporter": "python",
   "pygments_lexer": "ipython2",
   "version": "2.7.10"
  }
 },
 "nbformat": 4,
 "nbformat_minor": 0
}
