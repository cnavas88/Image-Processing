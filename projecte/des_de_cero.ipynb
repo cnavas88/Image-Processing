{
 "cells": [
  {
   "cell_type": "code",
   "execution_count": 148,
   "metadata": {
    "collapsed": false
   },
   "outputs": [],
   "source": [
    "from skimage import data, draw,color, data, restoration\n",
    "from skimage import transform, util\n",
    "from scipy import misc, fftpack, signal, ndimage\n",
    "import numpy as np\n",
    "from numpy.linalg import inv\n",
    "from skimage import filters, color\n",
    "from matplotlib import pyplot as plt\n",
    "from PIL import Image, ImageDraw, ImageEnhance\n",
    "import matplotlib.animation as animation\n",
    "from scipy.misc import imresize\n",
    "from scipy import ndimage as nd\n",
    "from random import randint\n",
    "import scipy\n",
    "scale = 5\n",
    "rgb =  plt.imread('casa3.jpg')\n",
    "rgb = imresize(rgb, ( rgb.shape[0]/scale,rgb.shape[1]/scale,3),interp='bilinear')\n",
    "img_LAB = color.rgb2lab(rgb.astype('float'))\n",
    "img_gris = color.rgb2gray(rgb)\n",
    "def normalitzar(imatge):\n",
    "    return np.real((imatge - np.min(imatge)) * 256 / (np.max(imatge) - np.min(imatge)))\n",
    "rgb=normalitzar(rgb)\n",
    "img_gris=normalitzar(img_gris)\n"
   ]
  },
  {
   "cell_type": "code",
   "execution_count": 149,
   "metadata": {
    "collapsed": false
   },
   "outputs": [],
   "source": [
    "class get_mouse_click():\n",
    "    \n",
    "    #Mouse interaction interface for radial distortion removal.\n",
    "    def __init__(self, img):\n",
    "      height, width = img.shape[:2]\n",
    "      self.figure = plt.imshow(img, extent=(0, width, height, 0))\n",
    "      plt.gray()\n",
    "      plt.title('select the object to remove')\n",
    "      plt.xlabel('Select sets of  points with left mouse button,\\n'\n",
    "                 'click right button to close the polygon.')\n",
    "      plt.connect('button_press_event', self.button_press)\n",
    "      plt.connect('motion_notify_event', self.mouse_move)\n",
    "\n",
    "      self.img = np.atleast_3d(img)\n",
    "      self.points = []\n",
    "      self.centre = np.array([(width - 1)/2., (height - 1)/2.])\n",
    "\n",
    "      self.height = height\n",
    "      self.width = width\n",
    "\n",
    "      self.make_cursorline()\n",
    "      self.figure.axes.set_autoscale_on(False)\n",
    "\n",
    "      plt.show()\n",
    "      plt.close()\n",
    "\n",
    "    def make_cursorline(self):\n",
    "        self.cursorline, = plt.plot([0],[0],'r:+', linewidth=2,markersize=15,markeredgecolor='b')\n",
    "\n",
    "    def button_press(self,event):\n",
    "        # Register mouse clicks.\n",
    "        if (event.button == 1 and event.xdata and event.ydata):\n",
    "            self.points.append((event.xdata,event.ydata))\n",
    "            plt.gca().lines.append(self.cursorline)\n",
    "            plt.gca()\n",
    "            self.make_cursorline()\n",
    "        if (event.button != 1):\n",
    "            self.points.append((self.points[0][0],self.points[0][1]))\n",
    "            plt.close()\n",
    "            return self.points\n",
    "\n",
    "    def mouse_move(self,event):\n",
    "        # Handle cursor drawing.\n",
    "        pts_last_set=len(self.points)\n",
    "        pts = np.zeros((pts_last_set+1,2))\n",
    "        if pts_last_set > 0:\n",
    "            # Line follows up to 3 clicked points:\n",
    "            pts[:pts_last_set] = self.points[-pts_last_set:]\n",
    "            # The last point of the line follows the mouse cursor\n",
    "        pts[pts_last_set:] = [event.xdata,event.ydata]\n",
    "        self.cursorline.set_data(pts[:,0], pts[:,1])\n",
    "        plt.draw()\n",
    "def compute_mask(width,height,polygon):\n",
    "    \n",
    "    img = Image.new('L', (width, height), 0)\n",
    "    ImageDraw.Draw(img).polygon(polygon, outline=1, fill=1)\n",
    "    mask = np.array(img)\n",
    "    #mask100 = 100*np.ones([mask.shape[0],mask.shape[1]])\n",
    "    #mask=mask*101\n",
    "    #mask = 1. - mask; # switch 0s and 1s\n",
    "    return mask\n",
    "def convine_mask(zona_delete,gris):\n",
    "    #si tenim 1 a la macara tenim forat\n",
    "    for i in xrange(len(gris)):\n",
    "        for j in xrange(len(gris[0])):\n",
    "            if zona_delete[i][j]==1:\n",
    "                gris[i][j]=-100\n",
    "    return gris\n",
    "def reccorrer_img(finestra,finestra_validar,img_gris,t,r,vent):\n",
    "    dif=19999999990.\n",
    "    list_valors=[]\n",
    "    count =0\n",
    "    for i in xrange(len(img_gris)-vent):\n",
    "        for j in xrange(len(img_gris[0])-vent):\n",
    "            #valor = millors_pix(finestra,finestra_validar,img_gris,i,j)\n",
    "            #si la puntuació es inferior al valor es que es prou semblant\n",
    "            #if img_gris[i][j] == -100:\n",
    "            #    print \"panic\"\n",
    "            #else:\n",
    "                valor = millors_pix(finestra,finestra_validar,img_gris,i,j)\n",
    "\n",
    "                if valor < dif:\n",
    "                    #print valor, dif, i, j\n",
    "                    if img_gris_convine[i][j]!=-100:\n",
    "                        \n",
    "                        valors = i,j\n",
    "                        dif = valor\n",
    "                        list_valors.append(valors)\n",
    "                    #print count, valor\n",
    "    #print list_valors[randint(0,len(list_valors)-1)]\n",
    "    return list_valors[len(list_valors)-1]\n",
    "def millors_pix(finestra,finestra_validar,img_gris,t,r):\n",
    "    #print finestra.shape\n",
    "    #print finestra_validar.shape\n",
    "    ssd=0.\n",
    "    total_ones_mask = finestra_validar.sum()\n",
    "    #aqui fariem el calcul de la formula explicada pel professor\n",
    "    #1/numero de 1 de la mascara*(Ixy-Fxy)² ssd = float(np.sum((img_gris[:,:,0:3] - finestra[:,:,0:3])**2))\n",
    "    for i in xrange(len(finestra_validar)):\n",
    "        for j in xrange(len(finestra_validar[0])):\n",
    "            ssd += (finestra_validar[i][j]*((img_gris[t+i,r+j] - finestra[i][j])**2))\n",
    "    if total_ones_mask==0:\n",
    "        print \"panic\"\n",
    "    #print finestra_validar\n",
    "    #print (1./total_ones_mask)*ssd\n",
    "    return (1./total_ones_mask)*ssd"
   ]
  },
  {
   "cell_type": "code",
   "execution_count": 150,
   "metadata": {
    "collapsed": false
   },
   "outputs": [
    {
     "name": "stdout",
     "output_type": "stream",
     "text": [
      "141.700971584 -100.0\n",
      "145.959790985 -100.0\n",
      "148.482906449 -100.0\n",
      "149.590534938 -100.0\n",
      "146.987861779 -100.0\n",
      "142.017216179 -100.0\n",
      "147.852624129 -100.0\n",
      "148.796944173 -100.0\n",
      "139.806152256 -100.0\n",
      "146.824553335 -100.0\n",
      "134.992415174 -100.0\n",
      "145.641560206 -100.0\n",
      "132.075704291 -100.0\n",
      "145.959790985 -100.0\n",
      "131.604537361 -100.0\n",
      "27.9311508013 -100.0\n",
      "130.103313453 -100.0\n",
      "139.806152256 -100.0\n",
      "131.757473512 -100.0\n",
      "133.099582031 -100.0\n",
      "134.992415174 -100.0\n",
      "132.699586686 -100.0\n",
      "146.430957916 -100.0\n",
      "147.689315685 -100.0\n",
      "148.796944173 -100.0\n",
      "147.142784114 -100.0\n",
      "143.114251688 -100.0\n",
      "146.51051561 -100.0\n",
      "138.620952256 -100.0\n",
      "146.506322556 -100.0\n",
      "135.390203648 -100.0\n",
      "141.700971584 -100.0\n",
      "134.286768214 -100.0\n",
      "142.017216179 -100.0\n",
      "133.099582031 -100.0\n",
      "133.731850534 -100.0\n",
      "134.917050534 -100.0\n",
      "133.338255115 -100.0\n",
      "145.321122556 -100.0\n",
      "145.086642526 -100.0\n",
      "144.697240161 -100.0\n",
      "142.010816253 -100.0\n",
      "144.847969442 -100.0\n",
      "137.592881462 -100.0\n",
      "140.668707735 -100.0\n",
      "135.545125983 -100.0\n",
      "136.723926058 -100.0\n",
      "143.903649397 -100.0\n"
     ]
    }
   ],
   "source": [
    "#img_gris = color.rgb2gray(rgb)\n",
    "#img_gris=normalitzar(img_gris)\n",
    "#img_gris_copy=normalitzar(img_gris)\n",
    "rdi = get_mouse_click(img_gris.astype('uint8'))\n",
    "height,width=img_gris.shape\n",
    "zona_delete = compute_mask(width,height,rdi.points)\n",
    "#finestra 8 per la paret, finestra 6 pel cel\n",
    "vent=8\n",
    "cont=0\n",
    "img_gris_convine=img_gris\n",
    "img_seam=normalitzar(color.rgb2gray(rgb))\n",
    "seams_extraccio = []\n",
    "seams_fi = []\n",
    "img_search=convine_mask(zona_delete,img_gris)\n",
    "\n",
    "while zona_delete.sum()>=1:\n",
    "    \n",
    "    zona_delete_erosio=ndimage.binary_erosion(zona_delete)\n",
    "\n",
    "    #busco el contorn mes extern de la part a substituir\n",
    "    delete_ceva =zona_delete - zona_delete_erosio \n",
    "    #actualitzo la mascara amb el que ja haurem substituit\n",
    "    #el problema ara esta en que al fer els pixels de la dreta el millor resultat que troba es el negre\n",
    "    finestra = np.zeros((vent,vent), dtype=np.int)\n",
    "    img_gris_convine=convine_mask(zona_delete,img_gris_convine)\n",
    "\n",
    "    for i in xrange(len(delete_ceva)):\n",
    "        for j in xrange(len(delete_ceva[0])):\n",
    "            if delete_ceva[i][j]==1:\n",
    "                delete_ceva[i][j]=0\n",
    "                finestra_validar = np.ones((vent,vent), dtype=np.int)\n",
    "                finestra=img_gris_convine[i-vent/2:i+vent/2,j-vent/2:j+vent/2]                              \n",
    "                finestra_validar=abs(finestra-finestra_validar)\n",
    "                #misc.imsave('contorn/'+str(cont+1)+'.png',normalitzar(delete_ceva))\n",
    "                t,r = reccorrer_img(finestra,finestra_validar,img_gris_convine,i,j,vent)\n",
    "                print img_gris_convine[t][r], img_gris_convine[i][j]\n",
    "                img_seam[t][r]=255\n",
    "                #seams_fi.append([plt.imshow(img_gris.astype('uint8'))])\n",
    "                seams_extraccio.append([plt.imshow(img_seam.astype('uint8'))]) \n",
    "                img_gris[i][j]=img_gris_convine[t][r]\n",
    "                #misc.imsave('imatges/'+str(cont+1)+'.png',img_gris)\n",
    "                cont= cont +1\n",
    "                zona_delete=zona_delete_erosio\n",
    "        \n",
    "\n",
    "\n"
   ]
  },
  {
   "cell_type": "code",
   "execution_count": 151,
   "metadata": {
    "collapsed": false
   },
   "outputs": [],
   "source": [
    "#ani = animation.ArtistAnimation(fig, seams_fi, interval=100, blit=True, repeat_delay=1000);\n",
    "#plt.show();\n",
    "ani = animation.ArtistAnimation(fig, seams_extraccio, interval=100, blit=True, repeat_delay=1000);\n",
    "plt.show();\n"
   ]
  },
  {
   "cell_type": "code",
   "execution_count": 152,
   "metadata": {
    "collapsed": false
   },
   "outputs": [
    {
     "name": "stdout",
     "output_type": "stream",
     "text": [
      "22.8433203579\n"
     ]
    }
   ],
   "source": [
    "#img_gris_convine=normalitzar(img_gris_convine)\n",
    "print img_search.min()\n",
    "\n",
    "            "
   ]
  },
  {
   "cell_type": "code",
   "execution_count": 121,
   "metadata": {
    "collapsed": false
   },
   "outputs": [
    {
     "data": {
      "text/plain": [
       "2001646.6755330199"
      ]
     },
     "execution_count": 121,
     "metadata": {},
     "output_type": "execute_result"
    }
   ],
   "source": [
    "img_gris_convine.sum()"
   ]
  },
  {
   "cell_type": "code",
   "execution_count": 127,
   "metadata": {
    "collapsed": true
   },
   "outputs": [],
   "source": [
    "    fig = plt.figure(123) \n",
    "    plt.imshow(img_gris.astype('uint8'))\n",
    "    plt.title('Contorn')\n",
    "    plt.show()"
   ]
  },
  {
   "cell_type": "code",
   "execution_count": null,
   "metadata": {
    "collapsed": true
   },
   "outputs": [],
   "source": []
  }
 ],
 "metadata": {
  "kernelspec": {
   "display_name": "Python 2",
   "language": "python",
   "name": "python2"
  },
  "language_info": {
   "codemirror_mode": {
    "name": "ipython",
    "version": 2
   },
   "file_extension": ".py",
   "mimetype": "text/x-python",
   "name": "python",
   "nbconvert_exporter": "python",
   "pygments_lexer": "ipython2",
   "version": "2.7.10"
  }
 },
 "nbformat": 4,
 "nbformat_minor": 0
}
