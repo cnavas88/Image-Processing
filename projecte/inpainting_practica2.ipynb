{
 "cells": [
  {
   "cell_type": "code",
   "execution_count": 81,
   "metadata": {
    "collapsed": false
   },
   "outputs": [],
   "source": [
    "from skimage import data, draw,color, data, restoration\n",
    "from skimage import transform, util\n",
    "from scipy import misc, fftpack, signal\n",
    "import numpy as np\n",
    "from skimage import filters, color\n",
    "from matplotlib import pyplot as plt\n",
    "from PIL import Image, ImageDraw, ImageEnhance\n",
    "import matplotlib.animation as animation\n",
    "from scipy.misc import imresize\n",
    "from scipy import ndimage as nd\n",
    "import scipy"
   ]
  },
  {
   "cell_type": "code",
   "execution_count": 97,
   "metadata": {
    "collapsed": false
   },
   "outputs": [
    {
     "name": "stdout",
     "output_type": "stream",
     "text": [
      "(480, 640)\n",
      "(480, 640, 3)\n"
     ]
    }
   ],
   "source": [
    "rgb =  plt.imread('casa.jpg')\n",
    "img_gris = color.rgb2gray(rgb)\n",
    "print img_gris.shape\n",
    "print rgb.shape\n",
    "fig = plt.figure(121) \n",
    "plt.imshow(rgb)\n",
    "plt.title('Original Image')\n",
    "fig = plt.figure(122) \n",
    "plt.imshow(img_gris,cmap=\"gray\")\n",
    "plt.title('Gray image')\n",
    "plt.show()"
   ]
  },
  {
   "cell_type": "code",
   "execution_count": 98,
   "metadata": {
    "collapsed": true
   },
   "outputs": [],
   "source": [
    "def gradient(img):\n",
    "    img = color.rgb2gray(img)\n",
    "    gx, gy = np.gradient(img)\n",
    "    grad = np.sqrt(gx*gx + gy*gy)\n",
    "    return grad\n",
    "grad = gradient(img)\n",
    "#normalitzacio d'imatge\n",
    "def normalitzar(imatge):\n",
    "    return np.real((imatge - np.min(imatge)) * 256 / (np.max(imatge) - np.min(imatge)))"
   ]
  },
  {
   "cell_type": "code",
   "execution_count": 99,
   "metadata": {
    "collapsed": false
   },
   "outputs": [
    {
     "name": "stdout",
     "output_type": "stream",
     "text": [
      "(480, 640)\n"
     ]
    }
   ],
   "source": [
    "#normalitzo les imatges a 255\n",
    "rgb=normalitzar(rgb)\n",
    "img_gris=normalitzar(img_gris)\n",
    "img_grad=gradient(rgb)\n",
    "img_grad=normalitzar(img_grad)\n",
    "print img_grad.shape\n",
    "plt.imshow(rgb.astype('uint8'))\n",
    "plt.title('Original Image')\n",
    "fig = plt.figure(122) \n",
    "plt.imshow(img_gris.astype('uint8'),cmap=\"gray\")\n",
    "plt.title('Gray image')\n",
    "fig = plt.figure(123) \n",
    "plt.imshow(img_grad.astype('uint8'),cmap=\"gray\")\n",
    "plt.title('Contorn')\n",
    "plt.show()"
   ]
  },
  {
   "cell_type": "code",
   "execution_count": 100,
   "metadata": {
    "collapsed": true
   },
   "outputs": [],
   "source": [
    "class get_mouse_click():\n",
    "    \n",
    "    #Mouse interaction interface for radial distortion removal.\n",
    "    def __init__(self, img):\n",
    "      height, width = img.shape[:2]\n",
    "      self.figure = plt.imshow(img, extent=(0, width, height, 0))\n",
    "      plt.gray()\n",
    "      plt.title('select the object to remove')\n",
    "      plt.xlabel('Select sets of  points with left mouse button,\\n'\n",
    "                 'click right button to close the polygon.')\n",
    "      plt.connect('button_press_event', self.button_press)\n",
    "      plt.connect('motion_notify_event', self.mouse_move)\n",
    "\n",
    "      self.img = np.atleast_3d(img)\n",
    "      self.points = []\n",
    "      self.centre = np.array([(width - 1)/2., (height - 1)/2.])\n",
    "\n",
    "      self.height = height\n",
    "      self.width = width\n",
    "\n",
    "      self.make_cursorline()\n",
    "      self.figure.axes.set_autoscale_on(False)\n",
    "\n",
    "      plt.show()\n",
    "      plt.close()\n",
    "\n",
    "    def make_cursorline(self):\n",
    "        self.cursorline, = plt.plot([0],[0],'r:+', linewidth=2,markersize=15,markeredgecolor='b')\n",
    "\n",
    "    def button_press(self,event):\n",
    "        # Register mouse clicks.\n",
    "        if (event.button == 1 and event.xdata and event.ydata):\n",
    "            self.points.append((event.xdata,event.ydata))\n",
    "            plt.gca().lines.append(self.cursorline)\n",
    "            plt.gca()\n",
    "            self.make_cursorline()\n",
    "        if (event.button != 1):\n",
    "            self.points.append((self.points[0][0],self.points[0][1]))\n",
    "            plt.close()\n",
    "            return self.points\n",
    "\n",
    "    def mouse_move(self,event):\n",
    "        # Handle cursor drawing.\n",
    "        pts_last_set=len(self.points)\n",
    "        pts = np.zeros((pts_last_set+1,2))\n",
    "        if pts_last_set > 0:\n",
    "            # Line follows up to 3 clicked points:\n",
    "            pts[:pts_last_set] = self.points[-pts_last_set:]\n",
    "            # The last point of the line follows the mouse cursor\n",
    "        pts[pts_last_set:] = [event.xdata,event.ydata]\n",
    "        self.cursorline.set_data(pts[:,0], pts[:,1])\n",
    "        plt.draw()\n",
    "def compute_mask(width,height,polygon):\n",
    "    \n",
    "    img = Image.new('L', (width, height), 0)\n",
    "    ImageDraw.Draw(img).polygon(polygon, outline=1, fill=1)\n",
    "    mask = np.array(img)\n",
    "    #mask100 = 100*np.ones([mask.shape[0],mask.shape[1]])\n",
    "    #mask=mask*101\n",
    "    #mask = 1. - mask; # switch 0s and 1s\n",
    "    return mask\n",
    "def convine_mask(zona_delete,img_gris):\n",
    "    #si tenim 1 a la macara tenim forat\n",
    "    for i in xrange(len(img_gris)):\n",
    "        for j in xrange(len(img_gris[0])):\n",
    "            if zona_delete[i][j]==1:\n",
    "                img_gris[i][j]=-100\n",
    "    return img_gris\n",
    "            "
   ]
  },
  {
   "cell_type": "code",
   "execution_count": null,
   "metadata": {
    "collapsed": false
   },
   "outputs": [],
   "source": [
    "rdi = get_mouse_click(img_gris.astype('uint8'))\n",
    "height,width=img_gris.shape\n",
    "zona_delete = compute_mask(width,height,rdi.points)\n",
    "img_mask = convine_mask(zona_delete,img_gris)\n",
    "\n",
    "print np.min(zona_delete)\n",
    "\n",
    "for i in xrange(len(img_mask)):\n",
    "    c=1\n",
    "    for j in xrange(len(img_mask[0])):\n",
    "        if img_mask[i][j]==-100:\n",
    "            img_mask[i][j]=img_mask[i-j][j]\n",
    "            c=c+2\n",
    "fig = plt.figure(124) \n",
    "plt.imshow(img_mask)\n",
    "plt.title('img_mask')\n",
    "plt.show()"
   ]
  },
  {
   "cell_type": "raw",
   "metadata": {},
   "source": []
  },
  {
   "cell_type": "code",
   "execution_count": 37,
   "metadata": {
    "collapsed": false
   },
   "outputs": [
    {
     "name": "stdout",
     "output_type": "stream",
     "text": [
      "[(121.97580645161291, 96.572580645161281), (115.9274193548387, 182.25806451612902), (140.12096774193549, 207.45967741935485), (148.18548387096774, 228.62903225806451), (174.39516129032256, 236.69354838709677), (245.9677419354839, 170.16129032258064), (244.95967741935488, 106.65322580645164), (154.23387096774195, 62.298387096774206), (123.99193548387096, 93.548387096774206), (121.97580645161291, 96.572580645161281)]\n"
     ]
    }
   ],
   "source": [
    "print rdi.points"
   ]
  },
  {
   "cell_type": "code",
   "execution_count": 51,
   "metadata": {
    "collapsed": false
   },
   "outputs": [
    {
     "name": "stdout",
     "output_type": "stream",
     "text": [
      "500\n"
     ]
    }
   ],
   "source": [
    "print len(img_gris[0])"
   ]
  },
  {
   "cell_type": "code",
   "execution_count": null,
   "metadata": {
    "collapsed": true
   },
   "outputs": [],
   "source": []
  }
 ],
 "metadata": {
  "kernelspec": {
   "display_name": "Python 2",
   "language": "python",
   "name": "python2"
  },
  "language_info": {
   "codemirror_mode": {
    "name": "ipython",
    "version": 2
   },
   "file_extension": ".py",
   "mimetype": "text/x-python",
   "name": "python",
   "nbconvert_exporter": "python",
   "pygments_lexer": "ipython2",
   "version": "2.7.10"
  }
 },
 "nbformat": 4,
 "nbformat_minor": 0
}
