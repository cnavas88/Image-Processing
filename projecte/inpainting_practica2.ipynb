{
 "cells": [
  {
   "cell_type": "code",
   "execution_count": 1,
   "metadata": {
    "collapsed": false
   },
   "outputs": [],
   "source": [
    "from skimage import data, draw,color, data, restoration\n",
    "from skimage import transform, util\n",
    "from scipy import misc, fftpack, signal, ndimage\n",
    "import numpy as np\n",
    "from numpy.linalg import inv\n",
    "from skimage import filters, color\n",
    "from matplotlib import pyplot as plt\n",
    "from PIL import Image, ImageDraw, ImageEnhance\n",
    "import matplotlib.animation as animation\n",
    "from scipy.misc import imresize\n",
    "from scipy import ndimage as nd\n",
    "import scipy"
   ]
  },
  {
   "cell_type": "code",
   "execution_count": 2,
   "metadata": {
    "collapsed": false
   },
   "outputs": [
    {
     "name": "stdout",
     "output_type": "stream",
     "text": [
      "(96, 128)\n",
      "(96, 128, 3)\n"
     ]
    }
   ],
   "source": [
    "scale = 5\n",
    "rgb =  plt.imread('casa.jpg')\n",
    "rgb = imresize(rgb, ( rgb.shape[0]/scale,rgb.shape[1]/scale,3),interp='bilinear')\n",
    "img_LAB = color.rgb2lab(rgb.astype('float'))\n",
    "img_gris = color.rgb2gray(rgb)\n",
    "print img_gris.shape\n",
    "print rgb.shape\n",
    "fig = plt.figure(121) \n",
    "plt.imshow(rgb)\n",
    "plt.title('Original Image')\n",
    "fig = plt.figure(122) \n",
    "plt.imshow(img_LAB[:,:,2])\n",
    "plt.title('Gray image')\n",
    "plt.show()"
   ]
  },
  {
   "cell_type": "code",
   "execution_count": 3,
   "metadata": {
    "collapsed": false
   },
   "outputs": [],
   "source": [
    "def gradient(img):\n",
    "    img = color.rgb2gray(img)\n",
    "    gx, gy = np.gradient(img)\n",
    "    grad = np.sqrt(gx*gx + gy*gy)\n",
    "    return grad\n",
    "grad = gradient(img_gris)\n",
    "#normalitzacio d'imatge\n",
    "def normalitzar(imatge):\n",
    "    return np.real((imatge - np.min(imatge)) * 256 / (np.max(imatge) - np.min(imatge)))"
   ]
  },
  {
   "cell_type": "code",
   "execution_count": 4,
   "metadata": {
    "collapsed": false
   },
   "outputs": [
    {
     "name": "stdout",
     "output_type": "stream",
     "text": [
      "(96, 128)\n"
     ]
    }
   ],
   "source": [
    "#normalitzo les imatges a 255\n",
    "rgb=normalitzar(rgb)\n",
    "img_gris=normalitzar(img_gris)\n",
    "img_grad=gradient(rgb)\n",
    "img_grad=normalitzar(img_grad)\n",
    "print img_grad.shape\n",
    "plt.imshow(rgb.astype('uint8'))\n",
    "plt.title('Original Image')\n",
    "fig = plt.figure(122) \n",
    "plt.imshow(img_gris.astype('uint8'),cmap=\"gray\")\n",
    "plt.title('Gray image')\n",
    "fig = plt.figure(123) \n",
    "plt.imshow(img_grad.astype('uint8'),cmap=\"gray\")\n",
    "plt.title('Contorn')\n",
    "plt.show()"
   ]
  },
  {
   "cell_type": "code",
   "execution_count": 19,
   "metadata": {
    "collapsed": false
   },
   "outputs": [],
   "source": [
    "class get_mouse_click():\n",
    "    \n",
    "    #Mouse interaction interface for radial distortion removal.\n",
    "    def __init__(self, img):\n",
    "      height, width = img.shape[:2]\n",
    "      self.figure = plt.imshow(img, extent=(0, width, height, 0))\n",
    "      plt.gray()\n",
    "      plt.title('select the object to remove')\n",
    "      plt.xlabel('Select sets of  points with left mouse button,\\n'\n",
    "                 'click right button to close the polygon.')\n",
    "      plt.connect('button_press_event', self.button_press)\n",
    "      plt.connect('motion_notify_event', self.mouse_move)\n",
    "\n",
    "      self.img = np.atleast_3d(img)\n",
    "      self.points = []\n",
    "      self.centre = np.array([(width - 1)/2., (height - 1)/2.])\n",
    "\n",
    "      self.height = height\n",
    "      self.width = width\n",
    "\n",
    "      self.make_cursorline()\n",
    "      self.figure.axes.set_autoscale_on(False)\n",
    "\n",
    "      plt.show()\n",
    "      plt.close()\n",
    "\n",
    "    def make_cursorline(self):\n",
    "        self.cursorline, = plt.plot([0],[0],'r:+', linewidth=2,markersize=15,markeredgecolor='b')\n",
    "\n",
    "    def button_press(self,event):\n",
    "        # Register mouse clicks.\n",
    "        if (event.button == 1 and event.xdata and event.ydata):\n",
    "            self.points.append((event.xdata,event.ydata))\n",
    "            plt.gca().lines.append(self.cursorline)\n",
    "            plt.gca()\n",
    "            self.make_cursorline()\n",
    "        if (event.button != 1):\n",
    "            self.points.append((self.points[0][0],self.points[0][1]))\n",
    "            plt.close()\n",
    "            return self.points\n",
    "\n",
    "    def mouse_move(self,event):\n",
    "        # Handle cursor drawing.\n",
    "        pts_last_set=len(self.points)\n",
    "        pts = np.zeros((pts_last_set+1,2))\n",
    "        if pts_last_set > 0:\n",
    "            # Line follows up to 3 clicked points:\n",
    "            pts[:pts_last_set] = self.points[-pts_last_set:]\n",
    "            # The last point of the line follows the mouse cursor\n",
    "        pts[pts_last_set:] = [event.xdata,event.ydata]\n",
    "        self.cursorline.set_data(pts[:,0], pts[:,1])\n",
    "        plt.draw()\n",
    "def compute_mask(width,height,polygon):\n",
    "    \n",
    "    img = Image.new('L', (width, height), 0)\n",
    "    ImageDraw.Draw(img).polygon(polygon, outline=1, fill=1)\n",
    "    mask = np.array(img)\n",
    "    #mask100 = 100*np.ones([mask.shape[0],mask.shape[1]])\n",
    "    #mask=mask*101\n",
    "    #mask = 1. - mask; # switch 0s and 1s\n",
    "    return mask\n",
    "def convine_mask(zona_delete,img_gris):\n",
    "    #si tenim 1 a la macara tenim forat\n",
    "    for i in xrange(len(img_gris)):\n",
    "        for j in xrange(len(img_gris[0])):\n",
    "            if zona_delete[i][j]==1:\n",
    "                img_gris[i][j]=-100\n",
    "    return img_gris\n",
    "def buscar_pix(img,t,r,finestra):   \n",
    "    for i in xrange(len(img)):\n",
    "        for j in xrange(len(img[0])):\n",
    "            \n",
    "            if img[i][j]!=-100:\n",
    "                #if img[i][j]-img[t][r]<=0.1 and grad[i][j]-grad[t][r]<=0.1:\n",
    "                if img[i][j]-img[t][r]<=0.8:\n",
    "                    pix=(img[i][j]+img[i-1][j-1]+img[i-1][j]+img[i][j-1])/4\n",
    "                    #print \"t,r\",img_mask[t][r]\n",
    "                    #print \"i,j\",img_mask[i][j]\n",
    "                    return pix\n",
    "def millors_pix(finestra,finestra2,img_gris,t,r):\n",
    "    print finestra.shape\n",
    "    print finestra2.shape\n",
    "    #aqui fariem el calcul de la formula explicada pel professor\n",
    "    #1/numero de 1 de la mascara*(Ixy-Fxy)² ssd = float(np.sum((img_gris[:,:,0:3] - finestra[:,:,0:3])**2))\n",
    "\n",
    "    ssd = float(np.sum(finestra2*(img_gris[i-4:i+4,i-4:i+4] - finestra[:,:])**2))\n",
    "    print finestra2\n",
    "    return (1/sum(finestra2))*ssd"
   ]
  },
  {
   "cell_type": "code",
   "execution_count": 20,
   "metadata": {
    "collapsed": false
   },
   "outputs": [
    {
     "name": "stdout",
     "output_type": "stream",
     "text": [
      "44 108\n",
      "(8, 8)\n",
      "(8, 8)\n",
      "[[1 1 1 1 1 1 1 1]\n",
      " [1 1 1 1 1 1 1 1]\n",
      " [1 1 1 1 1 1 1 1]\n",
      " [1 1 1 1 1 1 1 1]\n",
      " [1 1 1 1 0 0 0 1]\n",
      " [1 0 0 0 0 0 0 0]\n",
      " [1 1 0 0 0 0 0 0]\n",
      " [1 1 1 1 0 0 0 0]]\n",
      "44 109\n",
      "(8, 8)\n",
      "(8, 8)\n",
      "[[1 1 1 1 1 1 1 1]\n",
      " [1 1 1 1 1 1 1 1]\n",
      " [1 1 1 1 1 1 1 1]\n",
      " [1 1 1 1 1 1 1 1]\n",
      " [1 1 1 0 1 1 0 1]\n",
      " [0 1 1 1 1 1 1 0]\n",
      " [1 0 1 1 1 1 1 0]\n",
      " [1 1 1 0 1 1 1 1]]\n",
      "44 110\n",
      "(8, 8)\n",
      "(8, 8)\n",
      "[[1 1 1 1 1 1 1 1]\n",
      " [1 1 1 1 1 1 1 1]\n",
      " [1 1 1 1 1 1 1 1]\n",
      " [1 1 1 1 1 1 1 1]\n",
      " [1 1 0 1 0 1 0 1]\n",
      " [1 0 0 0 0 0 1 0]\n",
      " [0 1 0 0 0 0 1 0]\n",
      " [1 1 0 1 0 0 0 1]]\n",
      "45 105\n",
      "(8, 8)\n",
      "(8, 8)\n",
      "[[1 1 1 1 1 1 1 1]\n",
      " [1 1 1 1 1 1 1 1]\n",
      " [1 1 1 1 1 1 1 1]\n",
      " [1 1 1 1 1 1 1 0]\n",
      " [1 1 0 1 1 0 1 0]\n",
      " [1 0 0 0 0 1 0 1]\n",
      " [0 1 0 0 0 0 1 1]\n",
      " [1 1 0 1 0 0 0 1]]\n",
      "45 106\n",
      "(8, 8)\n",
      "(8, 8)\n",
      "[[1 1 1 1 1 1 1 1]\n",
      " [1 1 1 1 1 1 1 1]\n",
      " [1 1 1 1 1 1 1 1]\n",
      " [1 1 1 1 1 1 0 1]\n",
      " [1 1 0 0 0 1 0 1]\n",
      " [1 0 0 0 1 0 1 0]\n",
      " [0 1 0 0 0 0 0 0]\n",
      " [1 1 0 1 0 0 0 0]]\n",
      "45 107\n",
      "(8, 8)\n",
      "(8, 8)\n",
      "[[1 1 1 1 1 1 1 1]\n",
      " [1 1 1 1 1 1 1 1]\n",
      " [1 1 1 1 1 1 1 1]\n",
      " [1 1 1 1 1 0 1 0]\n",
      " [1 1 1 1 1 0 1 0]\n",
      " [1 0 0 1 0 1 0 1]\n",
      " [0 1 0 0 0 1 1 1]\n",
      " [1 1 0 1 0 0 1 1]]\n",
      "45 111\n",
      "(8, 8)\n",
      "(8, 8)\n",
      "[[1 1 1 1 1 1 1 1]\n",
      " [1 1 1 1 1 1 1 1]\n",
      " [1 1 1 1 1 1 1 1]\n",
      " [1 0 0 0 1 0 1 0]\n",
      " [0 0 0 0 0 0 1 0]\n",
      " [0 1 1 0 1 1 0 1]\n",
      " [0 0 1 1 1 0 1 1]\n",
      " [1 1 1 0 1 1 1 1]]\n",
      "46 106\n",
      "(8, 8)\n",
      "(8, 8)\n",
      "[[1 1 1 1 1 1 1 1]\n",
      " [1 1 1 1 1 1 1 1]\n",
      " [1 1 1 1 1 1 0 0]\n",
      " [1 0 0 1 0 1 0 1]\n",
      " [0 0 0 0 1 1 0 1]\n",
      " [0 1 1 0 1 1 1 0]\n",
      " [0 0 1 1 1 0 1 0]\n",
      " [1 1 1 0 1 1 1 1]]\n",
      "46 107\n",
      "(8, 8)\n",
      "(8, 8)\n",
      "[[1 1 1 1 1 1 1 1]\n",
      " [1 1 1 1 1 1 1 1]\n",
      " [1 1 1 1 1 0 1 1]\n",
      " [1 0 1 0 1 0 1 0]\n",
      " [0 0 0 1 0 0 1 0]\n",
      " [0 1 1 0 1 0 0 1]\n",
      " [0 0 1 1 1 0 0 1]\n",
      " [1 1 1 0 1 1 1 1]]\n",
      "46 111\n",
      "(8, 8)\n",
      "(8, 8)\n",
      "[[1 1 1 1 1 1 1 1]\n",
      " [1 1 1 1 1 1 1 1]\n",
      " [1 0 0 0 1 0 1 1]\n",
      " [0 1 0 1 0 0 1 0]\n",
      " [1 1 1 0 1 0 1 0]\n",
      " [0 0 0 1 0 1 0 1]\n",
      " [0 0 0 0 0 1 0 1]\n",
      " [1 1 1 0 1 1 1 1]]\n",
      "47 108\n",
      "(8, 8)\n",
      "(8, 8)\n",
      "[[1 1 1 1 1 1 1 1]\n",
      " [1 1 1 1 0 0 0 1]\n",
      " [1 1 1 1 0 1 0 0]\n",
      " [0 1 1 0 1 1 0 1]\n",
      " [1 1 1 0 0 1 0 1]\n",
      " [0 0 0 1 0 0 1 0]\n",
      " [0 0 0 0 0 1 0 1]\n",
      " [1 1 1 0 1 1 1 1]]\n",
      "47 112\n",
      "(8, 8)\n",
      "(8, 8)\n",
      "[[1 1 1 1 1 1 1 1]\n",
      " [0 0 0 1 0 0 0 1]\n",
      " [0 0 0 0 0 1 0 0]\n",
      " [1 0 0 1 1 1 0 1]\n",
      " [0 0 0 1 1 1 0 1]\n",
      " [0 1 1 0 1 0 1 0]\n",
      " [0 0 0 0 0 1 0 1]\n",
      " [1 1 1 0 1 1 1 1]]\n",
      "48 109\n",
      "(8, 8)\n",
      "(8, 8)\n",
      "[[1 1 1 0 0 0 1 1]\n",
      " [1 1 1 0 1 1 1 1]\n",
      " [0 1 1 1 1 0 1 0]\n",
      " [1 0 0 0 0 0 1 0]\n",
      " [0 0 0 1 0 0 1 0]\n",
      " [0 1 1 0 1 0 1 0]\n",
      " [0 0 0 0 0 1 0 1]\n",
      " [1 1 1 0 1 1 1 1]]\n",
      "48 110\n",
      "(8, 8)\n",
      "(8, 8)\n",
      "[[1 1 0 1 1 0 1 1]\n",
      " [0 0 0 1 0 0 1 1]\n",
      " [1 0 0 0 0 1 1 0]\n",
      " [1 0 1 1 1 1 0 0]\n",
      " [0 0 0 0 1 1 0 0]\n",
      " [0 1 1 0 1 0 1 0]\n",
      " [0 0 0 0 0 1 0 1]\n",
      " [1 1 1 0 1 1 1 1]]\n",
      "48 111\n",
      "(8, 8)\n",
      "(8, 8)\n",
      "[[1 0 1 0 1 0 1 1]\n",
      " [1 1 1 0 1 0 1 1]\n",
      " [0 1 1 1 1 1 1 0]\n",
      " [1 1 0 0 0 0 0 0]\n",
      " [0 0 1 1 0 0 0 0]\n",
      " [0 1 1 0 1 0 1 0]\n",
      " [0 0 0 0 0 1 0 1]\n",
      " [1 1 1 0 1 1 1 1]]\n",
      "48 112\n",
      "(8, 8)\n",
      "(8, 8)\n",
      "[[0 1 0 0 1 0 1 1]\n",
      " [0 0 0 1 1 0 1 1]\n",
      " [1 0 0 0 1 1 1 0]\n",
      " [0 0 1 1 1 0 0 0]\n",
      " [0 1 0 0 1 0 0 0]\n",
      " [0 1 1 0 1 0 1 0]\n",
      " [0 0 0 0 0 1 0 1]\n",
      " [1 1 1 0 1 1 1 1]]\n"
     ]
    }
   ],
   "source": [
    "rdi = get_mouse_click(img_gris.astype('uint8'))\n",
    "height,width=img_gris.shape\n",
    "zona_delete = compute_mask(width,height,rdi.points)\n",
    "zona_delete_erosio=ndimage.binary_erosion(zona_delete)\n",
    "#calculo el primer contorn a substituir restant la mascara menys ella mateixa erosionada\n",
    "delete_ceva =zona_delete - zona_delete_erosio \n",
    "finestra = np.zeros((8,8))\n",
    "finestra2 = np.ones((8,8), dtype=np.int)\n",
    "img_gris_convine=convine_mask(zona_delete,img_gris)\n",
    "for i in xrange(len(delete_ceva)):\n",
    "    for j in xrange(len(delete_ceva[0])):\n",
    "        if delete_ceva[i][j]==1:\n",
    "            print i,j\n",
    "            finestra=zona_delete[i-4:i+4,j-4:j+4]\n",
    "            #finestra2 per multiplicar on tenim 0 on hi haura el forat\n",
    "            finestra2=abs(finestra-finestra2)\n",
    "            #finestra_retorna=funcio que retornara la finestra mes similar\n",
    "            ssd=millors_pix(finestra,finestra2,img_gris_convine,i,j)\n"
   ]
  },
  {
   "cell_type": "code",
   "execution_count": 14,
   "metadata": {
    "collapsed": false
   },
   "outputs": [
    {
     "name": "stdout",
     "output_type": "stream",
     "text": [
      "(8, 8)\n"
     ]
    }
   ],
   "source": [
    "#finestra de 9x9\n",
    "print finestra.shape"
   ]
  },
  {
   "cell_type": "code",
   "execution_count": 4,
   "metadata": {
    "collapsed": false
   },
   "outputs": [
    {
     "name": "stdout",
     "output_type": "stream",
     "text": [
      "5 5\n",
      "5 6\n",
      "5 7\n",
      "5 8\n",
      "6 5\n",
      "6 6\n",
      "6 7\n",
      "6 8\n",
      "7 5\n",
      "7 6\n",
      "7 7\n",
      "7 8\n",
      "8 5\n",
      "8 6\n",
      "8 7\n",
      "8 8\n"
     ]
    }
   ],
   "source": [
    "for i in xrange(5,9):\n",
    "    for j in xrange(5,9):\n",
    "        print i,j\n"
   ]
  },
  {
   "cell_type": "raw",
   "metadata": {},
   "source": []
  },
  {
   "cell_type": "code",
   "execution_count": 10,
   "metadata": {
    "collapsed": false
   },
   "outputs": [],
   "source": []
  },
  {
   "cell_type": "code",
   "execution_count": 51,
   "metadata": {
    "collapsed": false
   },
   "outputs": [
    {
     "name": "stdout",
     "output_type": "stream",
     "text": [
      "500\n"
     ]
    }
   ],
   "source": []
  },
  {
   "cell_type": "code",
   "execution_count": null,
   "metadata": {
    "collapsed": false
   },
   "outputs": [],
   "source": [
    "#codigos de pruevas\n",
    "\n",
    "img_mask = convine_mask(zona_delete,img_gris)\n",
    "finestra=5\n",
    "print np.min(zona_delete)\n",
    "cont = 0\n",
    "for i in xrange(len(img_mask)):\n",
    "    for j in xrange(len(img_mask[0])):\n",
    "        if img_mask[i][j]==-100:\n",
    "            #faltaria fer que compari el valor del gradient i el valor del pixel\n",
    "            t,r= buscar_pix(img_mask,i,j-1,finestra)\n",
    "\n",
    "            img_mask[i][j]=img_mask[t][r]\n",
    "            #img_mask[i-5:i+5,j-5:j+5]=part\n",
    "            #img_mask[i-5:i+5][j-5:j+5]=img_mask[t-5:j+5][r-5:j+5]\n",
    "            #misc.imsave('imatges/'+str(cont+1)+'.png', img_mask)\n",
    "            #cont  += 1\n",
    "\n",
    "\n",
    "\n",
    "\n",
    "plt.imshow(img_mask)\n",
    "plt.title('img_mask')\n",
    "plt.show()\n",
    "\n",
    "\n",
    "print len(img_gris[0])\n",
    "\n",
    "\n",
    "def bucarpath(img,finestra,t,r):\n",
    "    path = np.zeros((finestra*2,finestra*2))\n",
    "    path = img[t-finestra:t+finestra,r-finestra:r+finestra]\n",
    "    return path\n",
    "prova=bucarpath(img_gris,5,275,439)\n",
    "fig = plt.figure(123) \n",
    "plt.imshow(img_gris,cmap=\"gray\")\n",
    "plt.title('img_mask')\n",
    "\n",
    "sub=bucarpath(img_gris,5,238,413)\n",
    "img_gris[275-5:275+5,429-5:429+5]=sub\n",
    "fig = plt.figure(124) \n",
    "plt.imshow(img_gris,cmap=\"gray\")\n",
    "plt.title('img_mask')\n",
    "plt.show()"
   ]
  },
  {
   "cell_type": "code",
   "execution_count": null,
   "metadata": {
    "collapsed": false
   },
   "outputs": [],
   "source": []
  },
  {
   "cell_type": "code",
   "execution_count": null,
   "metadata": {
    "collapsed": true
   },
   "outputs": [],
   "source": []
  }
 ],
 "metadata": {
  "kernelspec": {
   "display_name": "Python 2",
   "language": "python",
   "name": "python2"
  },
  "language_info": {
   "codemirror_mode": {
    "name": "ipython",
    "version": 2
   },
   "file_extension": ".py",
   "mimetype": "text/x-python",
   "name": "python",
   "nbconvert_exporter": "python",
   "pygments_lexer": "ipython2",
   "version": "2.7.10"
  }
 },
 "nbformat": 4,
 "nbformat_minor": 0
}
